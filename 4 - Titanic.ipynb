{
 "cells": [
  {
   "cell_type": "markdown",
   "id": "8ea79074-76c8-4e4e-823d-c81898b6df9d",
   "metadata": {},
   "source": [
    "# Partie 4 : Explorer le Titanic"
   ]
  },
  {
   "cell_type": "markdown",
   "id": "c36201b8-4da4-4d52-993a-11223a38233d",
   "metadata": {},
   "source": [
    "## Importation des données\n",
    "\n",
    "Vous devez charger un dataset sur les passagers du Titanic.\n",
    "Pour cela, vous allez importer la bibliothèque pandas avec l'alias `pd` et charger un DataFrame `titanic` à partir d'un fichier csv disponible dans un URL. Attention, ce fichier a un séparateur \";\" à renseigner :\n"
   ]
  },
  {
   "cell_type": "code",
   "execution_count": null,
   "id": "a0c26e9a-2c6e-47d4-8001-6c2790e4fe1a",
   "metadata": {},
   "outputs": [],
   "source": [
    "import pandas as pd\n",
    "# la commande suivante sert à afficher toutes les colonnes (pas de …)\n",
    "pd.options.display.max_columns=100\n",
    "\n",
    "titanic = pd.read_csv(\"https://bit.ly/2C2Tup2\", sep=';')\n"
   ]
  },
  {
   "cell_type": "markdown",
   "id": "c26f905f-3033-48be-b069-d570f1ded645",
   "metadata": {},
   "source": [
    "Votre première tâche est celle d'utiliser `.head()` et `.tail()` pour afficher la première et la dernière entrée de ce dataset. Obtenez aussi des informations sur les types de données avec `.info()` et des indicateurs statistiques avec `.describe()`."
   ]
  },
  {
   "cell_type": "code",
   "execution_count": null,
   "id": "36787a0b-7b54-47ce-9ef7-933b1e23f6d5",
   "metadata": {},
   "outputs": [],
   "source": [
    "#head()"
   ]
  },
  {
   "cell_type": "code",
   "execution_count": null,
   "id": "d9f18aa6-638b-488f-afcb-126aa0dd8bae",
   "metadata": {},
   "outputs": [],
   "source": [
    "#tail()"
   ]
  },
  {
   "cell_type": "code",
   "execution_count": null,
   "id": "612ba13d-9731-4f0c-87bf-d4228aadc0e1",
   "metadata": {},
   "outputs": [],
   "source": [
    "#info()"
   ]
  },
  {
   "cell_type": "code",
   "execution_count": null,
   "id": "88183936-53a5-49dc-a7cd-441a15c2a4ad",
   "metadata": {},
   "outputs": [],
   "source": [
    "#describe()"
   ]
  },
  {
   "cell_type": "code",
   "execution_count": null,
   "id": "3eeb4f33-d1b4-4a68-9ce9-ae54139eacfb",
   "metadata": {},
   "outputs": [],
   "source": []
  },
  {
   "cell_type": "markdown",
   "id": "211803f5-1a44-4c67-9536-dcc026e0cdf6",
   "metadata": {},
   "source": [
    "## Types de données\n",
    "\n",
    "Grâce à .info() , vous observez que certaines colonnes sont reconnues avec le type \"Object\", alors qu'on pourrait les transformer en \"category\". Modifiez le type de donnée des colonnes 'sex', 'pclass', 'survived' et 'embarked' en utilisant  `.astype(\"category\")`.\n",
    "\n",
    "Si vous voulez connaître combien d'individus sont recensés dans chaque catégorie, vous pouvez utiliser la fonction `.value_counts()` appliquée à chaque colonne."
   ]
  },
  {
   "cell_type": "code",
   "execution_count": null,
   "id": "ed4df6aa-2173-4a38-a2a3-61ca7ddfd070",
   "metadata": {},
   "outputs": [],
   "source": []
  },
  {
   "cell_type": "code",
   "execution_count": null,
   "id": "231b70b9-8587-41be-a065-c86ec6c4633e",
   "metadata": {},
   "outputs": [],
   "source": []
  },
  {
   "cell_type": "markdown",
   "id": "5b88a09e-89ee-46dc-8c03-903c2de07db7",
   "metadata": {},
   "source": [
    "## Données manquantes et hors-format\n",
    "\n",
    "Si vous avez fait attention à la sortie de .info(), la colonne 'age' manque certaines cases (des valeurs NaN sont utilisés à leur place). De plus, certaines âges sont représentés en tant que valeurs réelles (0,85 par exemple), mais utilisant une virgule au lieu d'un point (ce qui est attendu par l'ordinateur).\n",
    "\n",
    "Utiliser, dans cet ordre, des fonctions pour :\n",
    "1. remplacer la virgule ;\n",
    "2. remplir les cases vides avec la valeur \"28\" ;\n",
    "3. changer le type de données en float32.\n"
   ]
  },
  {
   "cell_type": "code",
   "execution_count": null,
   "id": "2bf6e2f7-1e24-4a4c-b29b-924e4d25c571",
   "metadata": {},
   "outputs": [],
   "source": [
    "# virgules"
   ]
  },
  {
   "cell_type": "code",
   "execution_count": null,
   "id": "f8f61cfb-bbb8-4197-8680-05bd95283411",
   "metadata": {},
   "outputs": [],
   "source": [
    "# cases vides"
   ]
  },
  {
   "cell_type": "code",
   "execution_count": null,
   "id": "0f5d371e-c625-4a77-bb53-aa10386a6955",
   "metadata": {},
   "outputs": [],
   "source": [
    "# float32"
   ]
  },
  {
   "cell_type": "markdown",
   "id": "f37c8e87-6847-415e-ac54-6088df04525e",
   "metadata": {},
   "source": [
    "Étudiez la sortie de .info() et .describe() après ces modifications."
   ]
  },
  {
   "cell_type": "code",
   "execution_count": null,
   "id": "506186be-e25c-422d-b99b-edd2766f40bb",
   "metadata": {},
   "outputs": [],
   "source": []
  },
  {
   "cell_type": "markdown",
   "id": "fd8bd750-4943-4989-a35b-0a3337058cf1",
   "metadata": {},
   "source": [
    "## Supprimer les colonnes \"inutiles\"\n",
    "Certaines colonnes ne seront pas utilisées dans notre exercice, vous pouvez les supprimer avec la fonction `.drop()`. On donnera comme paramètres un array avec les noms des colonnes à supprimer `('body','ticket','fare','cabin','name','boat','home.dest')`, ainsi que l'option `axis=1` pour indiquer qu'on souhaite supprimer les colonnes. \n"
   ]
  },
  {
   "cell_type": "code",
   "execution_count": null,
   "id": "907837fe-05c9-4d7f-8e1d-fc2c986514c7",
   "metadata": {},
   "outputs": [],
   "source": []
  },
  {
   "cell_type": "markdown",
   "id": "1f15f100-5c6b-47b1-9b94-8c1267a5b55a",
   "metadata": {},
   "source": [
    "## Graphique \"camembert\"\n",
    "On veut afficher sur un graphique \"camembert\" les distributions des colonnes `survived` et `pclass`. Pour cela, on utilisera la bibliothèque Matplotlib."
   ]
  },
  {
   "cell_type": "code",
   "execution_count": null,
   "id": "f2256d91-0b71-43c9-891b-623065679b77",
   "metadata": {},
   "outputs": [],
   "source": [
    "import matplotlib.pyplot as plt\n",
    "sizes=titanic['survived'].value_counts()\n",
    "fig1, ax1 = plt.subplots()\n",
    "ax1.pie(sizes, autopct='%1.1f%%', startangle=90)\n",
    "ax1.axis('equal') # Equal aspect ratio ensures that pie is drawn as a circle.\n",
    "plt.show()\n"
   ]
  },
  {
   "cell_type": "markdown",
   "id": "f69cd7b8-a773-472f-b552-d128780aee86",
   "metadata": {},
   "source": [
    "Renseignez-vous sur d'autres options Matplotlib pour l'affichage de graphiques camembert. Par exemple, sauriez-vous faire un plot \"3D\" (avec une petite zone d'ombre pour simuler la profondeur) ? Ou détacher l'une des \"tranches\" de valeurs ? "
   ]
  },
  {
   "cell_type": "code",
   "execution_count": null,
   "id": "78be083c-cf92-427e-9bfa-a0c0de70e70a",
   "metadata": {},
   "outputs": [],
   "source": []
  },
  {
   "cell_type": "markdown",
   "id": "1c956ef4-65dc-4206-b1b9-595ac42d69dc",
   "metadata": {},
   "source": [
    "Créer un graphique aussi pour la variable `pclass` (la classe des billets)"
   ]
  },
  {
   "cell_type": "markdown",
   "id": "b98e281a-d02d-4c91-88d9-26e905c35fe3",
   "metadata": {},
   "source": []
  },
  {
   "cell_type": "markdown",
   "id": "52757e64-2f34-4793-ba7e-3574c0b16c13",
   "metadata": {},
   "source": [
    "## Boxplot\n",
    "Maintenant, on fera un graphique \"boxplot\" à partir de la colonne \"age\". Bien qu'il soit possible de le faire avec Matplotlib, il est bien plus simple (et joli) de le faire en utilisant la bibliothèque Seaborn."
   ]
  },
  {
   "cell_type": "code",
   "execution_count": null,
   "id": "27cae6c0-1d38-44f1-8c96-fb89b201cc90",
   "metadata": {},
   "outputs": [],
   "source": [
    "import seaborn as sns\n",
    "sns.boxplot(titanic['age'], orient='v')\n",
    "plt.show()"
   ]
  },
  {
   "cell_type": "markdown",
   "id": "83f43a31-d483-4974-a1fa-e125fee320c3",
   "metadata": {},
   "source": [
    "Renseignez-vous sur le type d'information présentée avec les graphiques `boxplot`.\n",
    "\n",
    "Maintenant, rajoutez une colonne `pclass` à `boxplot` et analysez le résultat."
   ]
  },
  {
   "cell_type": "code",
   "execution_count": null,
   "id": "6e643fe0-43fe-472b-b029-6d00923a2a08",
   "metadata": {},
   "outputs": [],
   "source": []
  },
  {
   "cell_type": "markdown",
   "id": "37ed0a5e-60fe-4da8-b6ff-6c867602f0c0",
   "metadata": {},
   "source": [
    "## Histogramme\n",
    "\n",
    "Toujours intéressés par la colonne \"age\", nous voulons maintenant faire un histogramme. Avec Matplotlib, il suffit d'utiliser la fonction `plt.hist()`, d'indiquer la source des données et le nombre de 'barres' (*bins*). Affichez l'histogramme pour 8 groupes d'âge."
   ]
  },
  {
   "cell_type": "code",
   "execution_count": null,
   "id": "324d71ab-78a7-44f7-81b1-e564c1cbd1b7",
   "metadata": {},
   "outputs": [],
   "source": []
  },
  {
   "cell_type": "markdown",
   "id": "d34c7782-11a6-4160-bf7e-bc22c8a37b69",
   "metadata": {},
   "source": [
    "## Pairplots\n",
    "\n",
    "Parfois on cherche des corrélations entre les variables. Les pairplots sont des importantes aides visuelles, croisant différentes variables dans un même écran.\n",
    " Utiliser le code ci-dessous pour générer l'image (on la sauvegardera dans un fichier car elle est trop grande pour la petite fenêtre d'affichage).\n",
    " Quelle information vous pouvez en tirer des relations entre les variables ici présentes ? "
   ]
  },
  {
   "cell_type": "code",
   "execution_count": null,
   "id": "93685851-894b-4ff9-a835-01875754a8c7",
   "metadata": {},
   "outputs": [],
   "source": [
    "sns.pairplot(titanic,vars=['pclass','sex','age','embarked','survived'])"
   ]
  },
  {
   "cell_type": "markdown",
   "id": "efb1c77e-eba3-4c0c-bb4c-5e549cf3f702",
   "metadata": {},
   "source": [
    "## Données catégorisées\n",
    "Au lieu d'afficher les âges, nous voulons les regrouper en 4 groupes : enfants, jeunes, adultes et seniors. À partir de la colonne `age`, utiliser la fonction `.cut()` pour générer une nouvelle colonne (qu'on appelera **classes**), avec ces catégories. N'oubliez pas de donner des labels à chaque classe (enfants, jeunes, adultes, seniors).\n",
    "\n",
    "*si vous êtes curieux, essayez de donner les bornes de chaque classe : 0-12 enfants, 12-20 jeunes, 20-50 adultes, 50- seniors).\n"
   ]
  },
  {
   "cell_type": "code",
   "execution_count": null,
   "id": "ce368aae-987d-400a-974f-18b23ba30edf",
   "metadata": {},
   "outputs": [],
   "source": [
    "titanic['classes'] = pd.cut(titanic[\"age\"], bins=4, labels=['enfants','jeunes','adultes','seniors']).astype('category')"
   ]
  },
  {
   "cell_type": "code",
   "execution_count": null,
   "id": "a157580a-55bb-4fd0-ba35-4c06aafcff39",
   "metadata": {},
   "outputs": [],
   "source": []
  },
  {
   "cell_type": "markdown",
   "id": "abc07860-bf68-409d-8eb3-90794ac45188",
   "metadata": {},
   "source": [
    "## Machine Learning part 1\n",
    "\n",
    "On a fini la préparation des données, maintenant on souhaite tester différentes méthodes de machine learning (sans entrer encore dans les détails). \n",
    "Nous allons commencer par la transformation des données quantitatives ('sex', 'pclass', etc.) grâce à `.get_dummies()` :"
   ]
  },
  {
   "cell_type": "code",
   "execution_count": null,
   "id": "398e1dc5-2a44-45b2-afc3-e696b1b009a0",
   "metadata": {},
   "outputs": [],
   "source": [
    "dummies=['classes','sex','embarked','survived']\n",
    "intercept=pd.get_dummies(titanic,columns=dummies,drop_first=True)\n"
   ]
  },
  {
   "cell_type": "markdown",
   "id": "9d07337b-a6d7-42d3-8f81-7d382139af5d",
   "metadata": {},
   "source": [
    "À quoi ressemblent ces nouvelles colonnes ?"
   ]
  },
  {
   "cell_type": "code",
   "execution_count": null,
   "id": "25b15e10-2d8e-484d-822a-03975f36f277",
   "metadata": {},
   "outputs": [],
   "source": []
  },
  {
   "cell_type": "markdown",
   "id": "c82b5e09-c122-4e55-af44-b4e1b367c50c",
   "metadata": {},
   "source": [
    "Finalement, nous allons générer un dataset d'entraînement et autre de test. Pour cela, on sépare les colonnes avec les variables d'entrée et la colonne à prédire. Ensuite, on générera les datasets en réservant 25% des données pour la partie test :"
   ]
  },
  {
   "cell_type": "code",
   "execution_count": null,
   "id": "5f246ddc-950e-4f97-8c98-a09c5d571762",
   "metadata": {},
   "outputs": [],
   "source": [
    "from sklearn.model_selection import train_test_split\n",
    "titaX = intercept.drop(intercept.columns[-1],axis=1) \n",
    "titaY = intercept[intercept.columns[-1]] \n",
    "X_train, X_test, Y_train, Y_test = train_test_split(titaX, titaY, test_size=0.25)"
   ]
  },
  {
   "cell_type": "markdown",
   "id": "25ac3f14-4868-4141-a60d-fe67b79f1b41",
   "metadata": {},
   "source": [
    "### Régression Linéaire simple\n",
    "On démarrera par une régression linéaire simple (multivariate). \n",
    "Grâce à Scikit-Learn, on a déjà un \"regresseur\" tout prêt à être utilisé. \n",
    "On affichera les \"poids\" de chaque variable puis on fera des prédictions avec le dataset de test, et afficher la comparaison sous forme graphique.\n"
   ]
  },
  {
   "cell_type": "code",
   "execution_count": null,
   "id": "aed9d6ff-1b5d-4afe-976d-83813790bf48",
   "metadata": {},
   "outputs": [],
   "source": [
    "from sklearn.linear_model import LinearRegression\n",
    "regressor = LinearRegression() \n",
    "regressor.fit(X_train, Y_train)\n",
    "\n",
    "coeff_df = pd.DataFrame(regressor.coef_, titaX.columns, columns=['Coefficient']) \n",
    "print(coeff_df)\n",
    "\n",
    "Y_pred = regressor.predict(X_test)\n",
    "dif = pd.DataFrame({'Actual': Y_test, 'Predicted': Y_pred})\n",
    "dif1 = dif.head(25)\n",
    "\n"
   ]
  },
  {
   "cell_type": "code",
   "execution_count": null,
   "id": "e652ba3a-e877-46b9-83b4-2cfcadb8ec0b",
   "metadata": {},
   "outputs": [],
   "source": [
    "dif1.plot(kind='bar',figsize=(10,8))\n",
    "plt.grid(which='major', linestyle='-', linewidth='0.5', color='green')\n",
    "plt.grid(which='minor', linestyle=':', linewidth='0.5', color='black')\n",
    "plt.savefig('diff.png')\n"
   ]
  },
  {
   "cell_type": "markdown",
   "id": "6da84b00-9435-40db-ba9f-6a8cfc0fae40",
   "metadata": {},
   "source": [
    "Que veut dire cet extrait de la sortie ? Est-ce que les prévisions (en orange) correspondent bien aux valeurs réelles pour les individus du groupe de test ? "
   ]
  },
  {
   "cell_type": "markdown",
   "id": "99ebe3ff-7857-4efb-9f92-af4d3c009881",
   "metadata": {},
   "source": [
    "## K plus proches voisins et Random Forests\n",
    "Comme les prédictions avec la régression linéaire sont loin d'être précises, on essayera avec deux autres méthodes, les KNN et les RandomForests.\n",
    "\n"
   ]
  },
  {
   "cell_type": "code",
   "execution_count": null,
   "id": "9b5167d6-2218-4756-b7da-ce86f09d8b25",
   "metadata": {},
   "outputs": [],
   "source": [
    "# KNN\n",
    "from sklearn.neighbors import KNeighborsClassifier\n",
    "\n",
    "modelknn=KNeighborsClassifier()\n",
    "modelknn.fit(X_train,Y_train)\n",
    "\n",
    "y_pred_knn = modelknn.predict(X_test)\n",
    "dif = pd.DataFrame({'Actual': Y_test, 'Predicted': y_pred_knn})\n",
    "dif1 = dif.head(25)\n",
    "\n",
    "dif1.plot(kind='bar',figsize=(10,8))\n",
    "plt.grid(which='major', linestyle='-', linewidth='0.5', color='green')\n",
    "plt.grid(which='minor', linestyle=':', linewidth='0.5', color='black')\n"
   ]
  },
  {
   "cell_type": "code",
   "execution_count": null,
   "id": "2617c097-d581-461a-9ff8-55880cfea11d",
   "metadata": {},
   "outputs": [],
   "source": [
    "#RandomForest\n",
    "from sklearn.ensemble import RandomForestClassifier\n",
    "modelrf=RandomForestClassifier()\n",
    "modelrf.fit(X_train,Y_train)\n",
    "\n",
    "y_pred_rf = modelrf.predict(X_test)\n",
    "dif = pd.DataFrame({'Actual': Y_test, 'Predicted': y_pred_rf})\n",
    "dif2 = dif.head(25)\n",
    "\n",
    "dif2.plot(kind='bar',figsize=(10,8))\n",
    "plt.grid(which='major', linestyle='-', linewidth='0.5', color='green')\n",
    "plt.grid(which='minor', linestyle=':', linewidth='0.5', color='black')\n"
   ]
  },
  {
   "cell_type": "markdown",
   "id": "e17a9d84-c1e1-4a3f-81ee-10b9f51e77d6",
   "metadata": {},
   "source": [
    "## Métriques\n",
    "\n",
    "Les deux sorties précédentes semblent être plus \"proches\" des valeurs attendues, mais elles se trompent encore des fois.\n",
    "Utilisez les métriques suivantes pour comparer les trois méthodes (régression linéaire, KNN, Random Forest).\n",
    "Renseignez-vous sur la signification de chacune de ces métriques, leurs avantages et inconvénients.\n",
    "\n",
    "* le code ci-dessous est juste pour les RandomForest, à vous de faire pareil pour les autres modèles."
   ]
  },
  {
   "cell_type": "code",
   "execution_count": null,
   "id": "6162cdb8-20f6-45b8-a57c-c6a76d45bb90",
   "metadata": {},
   "outputs": [],
   "source": [
    "import sklearn.metrics as metrics\n",
    "import numpy as np\n",
    "print('Mean Absolute Error (MAE):', metrics.mean_absolute_error(Y_test, y_pred_rf)) \n",
    "print('Mean Squared Error (MSE):', metrics.mean_squared_error(Y_test, y_pred_rf)) \n",
    "print('Root Mean Squared Error (RMSE):', np.sqrt(metrics.mean_squared_error(Y_test, y_pred_rf)))\n"
   ]
  },
  {
   "cell_type": "code",
   "execution_count": null,
   "id": "564826b6-46f2-42bc-90e4-019492a61bb7",
   "metadata": {},
   "outputs": [],
   "source": []
  }
 ],
 "metadata": {
  "kernelspec": {
   "display_name": "Python 3 (ipykernel)",
   "language": "python",
   "name": "python3"
  },
  "language_info": {
   "codemirror_mode": {
    "name": "ipython",
    "version": 3
   },
   "file_extension": ".py",
   "mimetype": "text/x-python",
   "name": "python",
   "nbconvert_exporter": "python",
   "pygments_lexer": "ipython3",
   "version": "3.7.10"
  }
 },
 "nbformat": 4,
 "nbformat_minor": 5
}
