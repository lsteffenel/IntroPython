{
 "cells": [
  {
   "cell_type": "markdown",
   "metadata": {},
   "source": [
    "# Indexing, Selection, and Operations\n",
    "\n",
    "Maintenant que nous connaissons bien les structures de données des pandas, nous pouvons nous intéresser à certaines des caractéristiques intermédiaires des cadres de données, notamment\n",
    "    \n",
    "- le découpage, l'indexation et les sous-ensembles de grands ensembles de données sur la base d'une étiquette intelligente\n",
    "- **L'étiquetage hiérarchique** des axes\n",
    "- **Le tri et le classement** des données dans les DataFrames\n",
    "- La manipulation aisée des **données manquantes**.\n",
    "- Des outils de **summarisation** des données\n"
   ]
  },
  {
   "cell_type": "markdown",
   "metadata": {},
   "source": [
    "Dans cette section, nous allons manipuler les données recueillies auprès des navires de haute mer sur la côte est des Etats Unis. Les opérations des navires sont surveillées à l'aide du **Automatic Identification System (AIS)**, une technologie de navigation de sécurité en mer que les navires sont tenus d'entretenir et qui utilise des transpondeurs pour transmettre des signaux radio à très haute fréquence (VHF) contenant des informations statiques, notamment le nom du navire, l'indicatif d'appel et le pays d'origine, ainsi que des informations dynamiques propres à un voyage particulier, telles que la position, le cap et la vitesse du navire. \n",
    "\n",
    "![AIS](images/ais.gif)\n",
    "\n",
    "La Convention internationale pour la sauvegarde de la vie humaine en mer de l'Organisation Maritime Internationale (OMI) exige des capacités AIS fonctionnelles sur tous les navires de plus de 300 tonnes et les garde-côtes américains exigent l'AIS sur presque tous les navires naviguant dans les eaux américaines. Les gardes-côtes ont mis en place un réseau national de récepteurs AIS qui couvre la quasi-totalité des eaux américaines. **Les signaux AIS** sont transmis plusieurs fois par minute et le réseau est capable de traiter des milliers de rapports par minute et des mises à jour aussi souvent que toutes les deux secondes. Par conséquent, un voyage typique dans notre étude peut inclure la transmission de centaines ou de milliers de signaux codés AIS. Cela fournit une riche source de données spatiales qui comprend des informations à la fois **spatiales et temporelles**.\n",
    "\n",
    "Pour nos besoins, nous utiliserons des **données résumées** qui décrivent le transit d'un navire donné dans une zone administrative particulière. Les données comprennent l'heure de début et de fin du segment de transit, ainsi que des informations sur la vitesse du navire, la distance parcourue, etc."
   ]
  },
  {
   "cell_type": "code",
   "execution_count": null,
   "metadata": {},
   "outputs": [],
   "source": [
    "import pandas as pd\n",
    "import numpy as np\n",
    "\n",
    "vessels = pd.read_csv('./data/AIS/vessel_information.csv', index_col=0)"
   ]
  },
  {
   "cell_type": "markdown",
   "metadata": {},
   "source": [
    "## Indexing et Selection\n",
    "\n",
    "L'indexation est similaire à celle qu'on utilise dans des arrays, à l'exception près qu'on peut extraire les objets `Index`, en plus des index entiers."
   ]
  },
  {
   "cell_type": "code",
   "execution_count": null,
   "metadata": {},
   "outputs": [],
   "source": [
    "# Exemple de Series index\n",
    "flag = vessels.flag\n",
    "flag"
   ]
  },
  {
   "cell_type": "code",
   "execution_count": null,
   "metadata": {},
   "outputs": [],
   "source": [
    "# Numpy-style indexing\n",
    "flag[:10]"
   ]
  },
  {
   "cell_type": "code",
   "execution_count": null,
   "metadata": {},
   "outputs": [],
   "source": [
    "# Indexing par label\n",
    "flag[[298716,725011300]]"
   ]
  },
  {
   "cell_type": "code",
   "execution_count": null,
   "metadata": {},
   "outputs": [],
   "source": []
  },
  {
   "cell_type": "markdown",
   "metadata": {},
   "source": [
    "Dans un `DataFrame` nous pouvons faire des sélections sur les deux axes :"
   ]
  },
  {
   "cell_type": "code",
   "execution_count": null,
   "metadata": {},
   "outputs": [],
   "source": [
    "vessels[['num_names','num_types']].head()"
   ]
  },
  {
   "cell_type": "code",
   "execution_count": null,
   "metadata": {},
   "outputs": [],
   "source": [
    "vessels[vessels.max_loa>700]"
   ]
  },
  {
   "cell_type": "code",
   "execution_count": null,
   "metadata": {},
   "outputs": [],
   "source": []
  },
  {
   "cell_type": "markdown",
   "metadata": {},
   "source": [
    "L'attribut d'index `loc` permet de choisir des sous-ensembles de manière intuitive :"
   ]
  },
  {
   "cell_type": "code",
   "execution_count": null,
   "metadata": {},
   "outputs": [],
   "source": [
    "vessels.loc[720768000, ['names','flag', 'type']]"
   ]
  },
  {
   "cell_type": "code",
   "execution_count": null,
   "metadata": {},
   "outputs": [],
   "source": [
    "vessels.loc[:4731, 'names']"
   ]
  },
  {
   "cell_type": "markdown",
   "metadata": {},
   "source": [
    "La sélection peut se faire aussi avec des labels texte:"
   ]
  },
  {
   "cell_type": "code",
   "execution_count": null,
   "metadata": {},
   "outputs": [],
   "source": [
    "vessels.loc[:310, 'flag':'loa']"
   ]
  },
  {
   "cell_type": "markdown",
   "metadata": {},
   "source": [
    "En plus de l'attribut `loc` qui permet de faire une séléction par **label**, pandas permet aussi la séléction par **position** avec l'attribut `iloc`.\n",
    "\n",
    "Ainsi, nous pouvons demander une position absolue dans le tableau : "
   ]
  },
  {
   "cell_type": "code",
   "execution_count": null,
   "metadata": {},
   "outputs": [],
   "source": [
    "vessels.iloc[:5, 5:8]"
   ]
  },
  {
   "cell_type": "markdown",
   "metadata": {},
   "source": [
    "### Exercice\n",
    "\n",
    "Vous pouvez utiliser la méthode `isin` pour faire une requête dans le DataFrame selon une liste de valeurs : \n",
    "\n",
    "    data['color'].isin(['red', 'blue'])\n",
    "\n",
    "Utiliser `isin` pour trouver tous les navires enregistrés au Danemark ou au Japon. Combien d'entrées nous trovons ?"
   ]
  },
  {
   "cell_type": "code",
   "execution_count": null,
   "metadata": {},
   "outputs": [],
   "source": [
    "# Write your answer here"
   ]
  },
  {
   "cell_type": "code",
   "execution_count": null,
   "metadata": {},
   "outputs": [],
   "source": []
  },
  {
   "cell_type": "markdown",
   "metadata": {},
   "source": [
    "## Indexing avec `where`\n",
    "\n",
    "Les `DataFrame` Pandas  ont aussi un appel de type `where` qui accepte des conditions. Les objets retournés gardent l'index du `DataFrame` original, qui ne change pas de forme. Ceci est très important pour préserver l' **allignment** lors des opérations entre `DataFrame`s."
   ]
  },
  {
   "cell_type": "code",
   "execution_count": null,
   "metadata": {},
   "outputs": [],
   "source": [
    "np.random.seed(42)\n",
    "normal_vals = pd.DataFrame({'x{}'.format(i):np.random.randn(100) for i in range(5)})\n",
    "\n",
    "normal_vals.head()"
   ]
  },
  {
   "cell_type": "code",
   "execution_count": null,
   "metadata": {},
   "outputs": [],
   "source": [
    "normal_vals.where(normal_vals>0).head()"
   ]
  },
  {
   "cell_type": "markdown",
   "metadata": {},
   "source": [
    "`where` inclut une option `other` qui accepte une valeur scalaire ou tabulaire pour remplacer la valeur de `DataFrame` si la condition n'est pas satisfaite.\n",
    "\n",
    "Par exemple, nous pouvons retourner la valeur absolue de X comme ici :"
   ]
  },
  {
   "cell_type": "code",
   "execution_count": null,
   "metadata": {},
   "outputs": [],
   "source": [
    "normal_vals.where(normal_vals>0, other=-normal_vals).head()"
   ]
  },
  {
   "cell_type": "markdown",
   "metadata": {},
   "source": [
    "Il est aussi possible de faire appel à une fonction `lambda` afin de modifier la valeur :"
   ]
  },
  {
   "cell_type": "code",
   "execution_count": null,
   "metadata": {},
   "outputs": [],
   "source": [
    "normal_vals.where(normal_vals>0, other=lambda y: -y*100).head()"
   ]
  },
  {
   "cell_type": "markdown",
   "metadata": {},
   "source": [
    "L'opération `mask` est l'inverse booléenne de `where` :"
   ]
  },
  {
   "cell_type": "code",
   "execution_count": null,
   "metadata": {},
   "outputs": [],
   "source": [
    "normal_vals.mask(normal_vals>0).head()"
   ]
  },
  {
   "cell_type": "markdown",
   "metadata": {},
   "source": [
    "## Sélection avec  `query`\n",
    "\n",
    "Parfois, la sélection avec les index peut demander une commande trop élaborée car il faut associer plusieurs appels au Dataframe."
   ]
  },
  {
   "cell_type": "code",
   "execution_count": null,
   "metadata": {},
   "outputs": [],
   "source": [
    "normal_vals[(normal_vals.x1 > normal_vals.x0) & (normal_vals.x3 > normal_vals.x2)].head()"
   ]
  },
  {
   "cell_type": "markdown",
   "metadata": {},
   "source": [
    "Pour une syntaxe plus lisible et concise, nous pouvons utiliser la méthode `query`. Au lieu d'entrer toute la spécification de la colonne, nous pouvons simplement passer une string. Voici le même exemple réécrit avec query :"
   ]
  },
  {
   "cell_type": "code",
   "execution_count": null,
   "metadata": {},
   "outputs": [],
   "source": [
    "normal_vals.query('(x1 > x0) & (x3 > x2)').head()"
   ]
  },
  {
   "cell_type": "markdown",
   "metadata": {},
   "source": [
    "Les objets `DataFrame.index` et `DataFrame.columns` sont inclus par défaut dans les requêtes query. Is nous souhaitons passer une variable, nous pouvons utiliser le préfixe `@`:"
   ]
  },
  {
   "cell_type": "code",
   "execution_count": null,
   "metadata": {},
   "outputs": [],
   "source": [
    "min_loa = 700"
   ]
  },
  {
   "cell_type": "code",
   "execution_count": null,
   "metadata": {},
   "outputs": [],
   "source": [
    "vessels.query('max_loa > @min_loa')"
   ]
  },
  {
   "cell_type": "markdown",
   "metadata": {},
   "source": [
    "## Opérations\n",
    "\n",
    "Les objets `DataFrame` et `Series` supportent plusieurs opérations au sein d'un objet ou entre différents objets.\n",
    "\n",
    "Dans cette section nous allons charger un dataset supplémentaire avec des informations sur le déplacements de chaque navire. Ce dataset est bien plus important car chaque navire a fait plusieurs voyages au long des années.\n",
    "\n",
    "Par exemple, nous pouvons faire des opérations arithmetiquessur des éléments des deux objets, en combinant par exemple les distances voyagées au long des années. Commençons d'abord à créer des Series pour regrouper les distances parcouroues en 2009 et 2010 :"
   ]
  },
  {
   "cell_type": "code",
   "execution_count": null,
   "metadata": {},
   "outputs": [],
   "source": [
    "segments = pd.read_csv('./data/AIS/transit_segments.csv', parse_dates=['st_time'])"
   ]
  },
  {
   "cell_type": "markdown",
   "metadata": {},
   "source": [
    "Ensuite, on extrait l'année (on verra plus sur les données temporelles d'ici peu)"
   ]
  },
  {
   "cell_type": "code",
   "execution_count": null,
   "metadata": {},
   "outputs": [],
   "source": [
    "segments['year'] = segments.st_time.dt.year\n",
    "segments.year.head()"
   ]
  },
  {
   "cell_type": "code",
   "execution_count": null,
   "metadata": {},
   "outputs": [],
   "source": [
    "segments2009 = segments[segments.year==2009].copy()\n",
    "lengths2009 = pd.Series({name: segments2009[segments2009.name==name].seg_length.sum() \n",
    "                         for name in segments2009.name.unique()})"
   ]
  },
  {
   "cell_type": "code",
   "execution_count": null,
   "metadata": {},
   "outputs": [],
   "source": [
    "segments2010 = segments[segments.year==2010].copy()\n",
    "lengths2010 = pd.Series({name: segments2010[segments2010.name==name].seg_length.sum() \n",
    "                         for name in segments2010.name.unique()})"
   ]
  },
  {
   "cell_type": "markdown",
   "metadata": {},
   "source": [
    "Autre option plus efficace est d'utiliser groupby, qu'on verra plus tard."
   ]
  },
  {
   "cell_type": "code",
   "execution_count": null,
   "metadata": {},
   "outputs": [],
   "source": [
    "length2009 = segments.loc[segments.year==2009, 'seg_length']\n",
    "length2009.index = segments.name[segments.year==2009]\n",
    "\n",
    "length2010 = segments.loc[segments.year==2010, 'seg_length']\n",
    "length2010.index = segments.name[segments.year==2010]"
   ]
  },
  {
   "cell_type": "markdown",
   "metadata": {},
   "source": [
    "Maintenant, on peut faire la somme des distances parcourues :"
   ]
  },
  {
   "cell_type": "code",
   "execution_count": null,
   "metadata": {},
   "outputs": [],
   "source": [
    "seg_lengths = lengths2009 + lengths2010\n",
    "seg_lengths"
   ]
  },
  {
   "cell_type": "markdown",
   "metadata": {},
   "source": [
    "L'alignement des données de Pandas inclut des valeurs `NaN` pour les labels qui ne sont pas communs aux deux Series. En effet, on voit que la plupart des navires n'a que des données pour une seule année."
   ]
  },
  {
   "cell_type": "code",
   "execution_count": null,
   "metadata": {},
   "outputs": [],
   "source": [
    "seg_lengths.notnull().mean()"
   ]
  },
  {
   "cell_type": "markdown",
   "metadata": {},
   "source": [
    "Bien que cela correspond à la réalité, on ne veut pas de valeurs `NaN` dans notre tableau. nous pouvons remplacer les valeurs `NaN` lors de la somme en indiquant d'utiliser zéro à la place d'un `NaN` :"
   ]
  },
  {
   "cell_type": "code",
   "execution_count": null,
   "metadata": {},
   "outputs": [],
   "source": [
    "lengths2009.add(lengths2010, fill_value=0)"
   ]
  },
  {
   "cell_type": "markdown",
   "metadata": {},
   "source": [
    "Les opérations peuvent aussi être diffusées (**broadcast**) entre les lignes et colonnes.\n",
    "\n",
    "Par exemple, si on soustrait la valeur maximum de LOA (longueur du navire) de la colonne `max_loa` column, nous avons la différence de taille entre les navires et le plus long des bateaux (en pieds, bien sûr)."
   ]
  },
  {
   "cell_type": "code",
   "execution_count": null,
   "metadata": {},
   "outputs": [],
   "source": [
    "vessels.max_loa - vessels.max_loa.max()"
   ]
  },
  {
   "cell_type": "markdown",
   "metadata": {},
   "source": [
    "Nous pouvons aussi comparer des élements  ligne par ligne :"
   ]
  },
  {
   "cell_type": "code",
   "execution_count": null,
   "metadata": {},
   "outputs": [],
   "source": [
    "vessels[vessels.max_loa==vessels.max_loa.max()]"
   ]
  },
  {
   "cell_type": "code",
   "execution_count": null,
   "metadata": {},
   "outputs": [],
   "source": [
    "recs = vessels[['num_names','num_loas', 'max_loa', 'num_types']]\n",
    "diff = recs - recs.loc[354092000]\n",
    "diff[:10]"
   ]
  },
  {
   "cell_type": "markdown",
   "metadata": {},
   "source": [
    "Finalement, nous pouvons aussi appliquer des fonctions aux lignes ou colonnes d'un `DataFrame`"
   ]
  },
  {
   "cell_type": "code",
   "execution_count": null,
   "metadata": {},
   "outputs": [],
   "source": [
    "recs.apply(np.median)"
   ]
  },
  {
   "cell_type": "code",
   "execution_count": null,
   "metadata": {},
   "outputs": [],
   "source": [
    "def range_calc(x):\n",
    "    return x.max() - x.min()"
   ]
  },
  {
   "cell_type": "code",
   "execution_count": null,
   "metadata": {},
   "outputs": [],
   "source": [
    "recs.apply(range_calc)"
   ]
  },
  {
   "cell_type": "markdown",
   "metadata": {},
   "source": [
    "## Tri et Classement\n",
    "\n",
    "Les objets Pandas incluent des méthodes pour réordonner les données."
   ]
  },
  {
   "cell_type": "code",
   "execution_count": null,
   "metadata": {},
   "outputs": [],
   "source": [
    "segments.sort_index().head()"
   ]
  },
  {
   "cell_type": "code",
   "execution_count": null,
   "metadata": {},
   "outputs": [],
   "source": [
    "segments.sort_index(ascending=False).head()"
   ]
  },
  {
   "cell_type": "markdown",
   "metadata": {},
   "source": [
    "Essayez d'ordonner les **colonnes** en ordre croissant, au lieu des lignes :"
   ]
  },
  {
   "cell_type": "code",
   "execution_count": null,
   "metadata": {},
   "outputs": [],
   "source": [
    "segments.sort_index(axis=1).head()"
   ]
  },
  {
   "cell_type": "markdown",
   "metadata": {},
   "source": [
    "Il est aussi possible d'utiliser `sort_values` pour trier un `Series`par valeur au lieu du label."
   ]
  },
  {
   "cell_type": "code",
   "execution_count": null,
   "metadata": {},
   "outputs": [],
   "source": [
    "segments.seg_length.sort_values(ascending=False).head(10)"
   ]
  },
  {
   "cell_type": "markdown",
   "metadata": {},
   "source": [
    "Pour un `DataFrame`, nous pouvons trier selon les valeurs de plusieurs colonnes en passant un argument `by` à  `sort_values` :"
   ]
  },
  {
   "cell_type": "code",
   "execution_count": null,
   "metadata": {
    "scrolled": true
   },
   "outputs": [],
   "source": [
    "segments[['avg_sog','max_sog','min_sog']].sort_values(ascending=[False,True], \n",
    "                                           by=['max_sog', 'min_sog']).head(10)"
   ]
  },
  {
   "cell_type": "markdown",
   "metadata": {},
   "source": [
    "## Indexation Hiérarchique\n",
    "\n",
    "Le champ `mmsi` (Maritime Mobile Service Identity) représent un identificateur dans le tablea `vessels`, mais pas dans le tableau `segments`.\n",
    "\n",
    "Nous pouvons utiliser l'indexation hiérarchique afin de créer un **index unique** avec plus d'information que l'index entier donné par défaut."
   ]
  },
  {
   "cell_type": "code",
   "execution_count": null,
   "metadata": {},
   "outputs": [],
   "source": [
    "segments_hier = segments.set_index(['mmsi', 'name', 'year', 'transit', 'segment']).sort_index(ascending=True)\n",
    "segments_hier.head(10)"
   ]
  },
  {
   "cell_type": "markdown",
   "metadata": {},
   "source": [
    "Cet index est un objet `MultiIndex`, composé d'une séquence de tuples (dans ce cas, la composition de plusieurs colonnes). Lorsqu'on trouve de valeurs répétés, pandas ne les affiche pas, rendant plus simple l'identification des groupes de valeurs."
   ]
  },
  {
   "cell_type": "code",
   "execution_count": null,
   "metadata": {},
   "outputs": [],
   "source": [
    "segments_hier.index.is_unique"
   ]
  },
  {
   "cell_type": "markdown",
   "metadata": {},
   "source": [
    "Essayez d'utiliser cet index hiérarchique pour récupérer le premier segment du 10ème trajet effectué par le navire *Sentinel* (mmsi=366766980) :"
   ]
  },
  {
   "cell_type": "code",
   "execution_count": null,
   "metadata": {},
   "outputs": [],
   "source": [
    "segments_hier.loc[(366766980, 'Sentinel', 2009, 10, 1)]"
   ]
  },
  {
   "cell_type": "markdown",
   "metadata": {},
   "source": [
    "Avec un index hiérachique, nous pouvons sélectionner des sous-ensemble des données à partir d'un index *partiel*  :"
   ]
  },
  {
   "cell_type": "code",
   "execution_count": null,
   "metadata": {},
   "outputs": [],
   "source": [
    "segments.loc[9]"
   ]
  },
  {
   "cell_type": "markdown",
   "metadata": {},
   "source": [
    "Les indices hiérarchiques peuvent aussi être crées sur d'autres axes (lignes). Voici un exemple :"
   ]
  },
  {
   "cell_type": "code",
   "execution_count": null,
   "metadata": {},
   "outputs": [],
   "source": [
    "frame = pd.DataFrame(np.arange(12).reshape(( 4, 3)), \n",
    "                  index =[['a', 'a', 'b', 'b'], [1, 2, 1, 2]], \n",
    "                  columns =[['Ohio', 'Ohio', 'Colorado'], ['Green', 'Red', 'Green']])\n",
    "\n",
    "frame"
   ]
  },
  {
   "cell_type": "markdown",
   "metadata": {},
   "source": [
    "Pour rendre le traitement plus simple, on peut renommer les index avec ces valeurs :"
   ]
  },
  {
   "cell_type": "code",
   "execution_count": null,
   "metadata": {},
   "outputs": [],
   "source": [
    "frame.index.names = ['key1', 'key2']\n",
    "frame.columns.names = ['state', 'color']\n",
    "frame"
   ]
  },
  {
   "cell_type": "markdown",
   "metadata": {},
   "source": [
    "Et à partir de cela, faire tout type de recherche : "
   ]
  },
  {
   "cell_type": "code",
   "execution_count": null,
   "metadata": {},
   "outputs": [],
   "source": [
    "frame.loc['a', 'Ohio']"
   ]
  },
  {
   "cell_type": "markdown",
   "metadata": {},
   "source": [
    "#### Exercice :Récupérer la valeur de `b2` dans `Colorado` :"
   ]
  },
  {
   "cell_type": "code",
   "execution_count": null,
   "metadata": {},
   "outputs": [],
   "source": [
    "# votre réponse ici"
   ]
  },
  {
   "cell_type": "markdown",
   "metadata": {},
   "source": [
    "Additionally, the order of the set of indices in a hierarchical `MultiIndex` can be changed by swapping them pairwise:"
   ]
  },
  {
   "cell_type": "markdown",
   "metadata": {},
   "source": [
    "L'une des façons la plus simple d'extraire des données partielles avec un `MultiIndex` est d'utiliser la fonction `IndexSlice`. Par exemple, si nous voulons les deux premiers segments de toutes les voyages en 2009 et 2010 :"
   ]
  },
  {
   "cell_type": "code",
   "execution_count": null,
   "metadata": {},
   "outputs": [],
   "source": [
    "segments_hier.loc[pd.IndexSlice[:, :, 2009:2010, [1,2]], 'seg_length'].head(12)"
   ]
  },
  {
   "cell_type": "markdown",
   "metadata": {},
   "source": [
    "Le `:` dit à pandas d'inclure tout le niveau (0 à n-1)."
   ]
  },
  {
   "cell_type": "markdown",
   "metadata": {},
   "source": [
    "Les données peuvent aussi être ordonnées selon un niveau, avec la fonction `sort_index` et l'argument `level`  spécifié :"
   ]
  },
  {
   "cell_type": "code",
   "execution_count": null,
   "metadata": {},
   "outputs": [],
   "source": [
    "segments.sort_index(level='max_sog', ascending=False).head()"
   ]
  },
  {
   "cell_type": "markdown",
   "metadata": {},
   "source": [
    "## Données Manquantes\n",
    "\n",
    "Il est très probable que vous datasets contiennent de données manquantes. Pandas offre plusieurs outils pour les traiter et ainsi vous simplifier la préparation des données.\n",
    "\n",
    "Les données manquantes sont représentées par des `NaN`. Toutefois, les `None` sont aussi considérées comme des données manquantes car d'autres bibliothèques les utilisent ainsi (ex : NumPy)."
   ]
  },
  {
   "cell_type": "code",
   "execution_count": null,
   "metadata": {},
   "outputs": [],
   "source": [
    "foo = pd.Series([np.nan, -3, None, 'foobar'])\n",
    "foo"
   ]
  },
  {
   "cell_type": "code",
   "execution_count": null,
   "metadata": {},
   "outputs": [],
   "source": [
    "foo.isnull()"
   ]
  },
  {
   "cell_type": "markdown",
   "metadata": {},
   "source": [
    "Pour illustrer le traitement de données manquantes avec Pandas, vous allez importer un dataset qui regroupe des résultats de tests faits sur des enfants avec des difficultés auditives. Parmi les variables (colonnes), plusieurs ne sont pas renseignées ;"
   ]
  },
  {
   "cell_type": "code",
   "execution_count": null,
   "metadata": {},
   "outputs": [],
   "source": [
    "testing = pd.read_csv('./data/test_scores.csv', index_col=0)\n",
    "testing.head(10)"
   ]
  },
  {
   "cell_type": "markdown",
   "metadata": {},
   "source": [
    "Les lignes (ou colonnes) avec de données manquantes peuvent tout simplement être supprimées, si vous avec encore assez pour continuer à travailler. "
   ]
  },
  {
   "cell_type": "markdown",
   "metadata": {},
   "source": [
    "Par défaut, `dropna` supprime toute ligne où l'une des valeurs est manquante."
   ]
  },
  {
   "cell_type": "code",
   "execution_count": null,
   "metadata": {},
   "outputs": [],
   "source": [
    "testing.dropna().head(10)"
   ]
  },
  {
   "cell_type": "markdown",
   "metadata": {},
   "source": [
    "Un résultat similaire peut être obtenu avec une recherche"
   ]
  },
  {
   "cell_type": "code",
   "execution_count": null,
   "metadata": {},
   "outputs": [],
   "source": [
    "testing.isnull().head()"
   ]
  },
  {
   "cell_type": "code",
   "execution_count": null,
   "metadata": {},
   "outputs": [],
   "source": [
    "testing[testing.notnull()].head()"
   ]
  },
  {
   "cell_type": "markdown",
   "metadata": {},
   "source": [
    "Ce comportement \"efface si une seule colonne est NaN\" peut être allégé avec l'option `how='all'`, qui ne supprime la ligne que si toutes les colonnes sont vides."
   ]
  },
  {
   "cell_type": "code",
   "execution_count": null,
   "metadata": {},
   "outputs": [],
   "source": [
    "testing.dropna(how='all')"
   ]
  },
  {
   "cell_type": "markdown",
   "metadata": {},
   "source": [
    "Il est possible de régler ce seuil avec l'argument `thresh`."
   ]
  },
  {
   "cell_type": "code",
   "execution_count": null,
   "metadata": {},
   "outputs": [],
   "source": [
    "testing.dropna(thresh=10)"
   ]
  },
  {
   "cell_type": "markdown",
   "metadata": {},
   "source": []
  },
  {
   "cell_type": "markdown",
   "metadata": {},
   "source": [
    "### Exercice\n",
    "\n",
    "En utilisant l'argument `axis`, essayez de supprimer les `colonnes` avec des champs manquants :"
   ]
  },
  {
   "cell_type": "code",
   "execution_count": null,
   "metadata": {},
   "outputs": [],
   "source": [
    "# Votre réponse ici"
   ]
  },
  {
   "cell_type": "code",
   "execution_count": null,
   "metadata": {},
   "outputs": [],
   "source": []
  },
  {
   "cell_type": "markdown",
   "metadata": {},
   "source": [
    "Parfois il est plus intéressant de remplir les cases manquants, plutôt que de supprimer les lignes/colonnes. La valeur de remplissage peut être une valeur par défaut (0, par exemple), ou une valeur calculée à partir de l'ensemble des données valides (la moyenne, par exemple). La fonction `fillna` sert à ça."
   ]
  },
  {
   "cell_type": "code",
   "execution_count": null,
   "metadata": {},
   "outputs": [],
   "source": [
    "testing.fillna(0).head(10)"
   ]
  },
  {
   "cell_type": "code",
   "execution_count": null,
   "metadata": {},
   "outputs": [],
   "source": [
    "testing.fillna({'family_inv': 0, 'mother_hs':1}).head(10)"
   ]
  },
  {
   "cell_type": "markdown",
   "metadata": {},
   "source": [
    "Observez que `fillna` retourne un nouveau DataFrame, au lieu de modifier l'objet existant (**en général, c'est une bonne pratique car on n'efface pas les sources !**)."
   ]
  },
  {
   "cell_type": "markdown",
   "metadata": {},
   "source": [
    "Les valeurs manquantes peuvent aussi être interpolées :"
   ]
  },
  {
   "cell_type": "code",
   "execution_count": null,
   "metadata": {
    "scrolled": true
   },
   "outputs": [],
   "source": [
    "testing.fillna(method='bfill').head(10)"
   ]
  },
  {
   "cell_type": "markdown",
   "metadata": {},
   "source": [
    "## Agrégation de Données\n",
    "\n",
    "Souvent on veut agréger les données dans les `Series` ou `DataFrame` pour mieux les comprendre ou comparer. Voici quelques exemples d'opérations."
   ]
  },
  {
   "cell_type": "code",
   "execution_count": null,
   "metadata": {},
   "outputs": [],
   "source": [
    "testing.sum()"
   ]
  },
  {
   "cell_type": "code",
   "execution_count": null,
   "metadata": {},
   "outputs": [],
   "source": [
    "testing.mean()"
   ]
  },
  {
   "cell_type": "markdown",
   "metadata": {},
   "source": []
  },
  {
   "cell_type": "markdown",
   "metadata": {},
   "source": [
    "Des fois on ne veut pas ignorer les `nan`."
   ]
  },
  {
   "cell_type": "code",
   "execution_count": null,
   "metadata": {},
   "outputs": [],
   "source": [
    "testing.mean(skipna=False)"
   ]
  },
  {
   "cell_type": "markdown",
   "metadata": {},
   "source": [
    "Si on passe l'argument `axis=1`, l'opération sera appliquée aux lignes au lieu des colonnes, ce qui peut être utile dans certaines situations."
   ]
  },
  {
   "cell_type": "code",
   "execution_count": null,
   "metadata": {},
   "outputs": [],
   "source": [
    "nonenglish_nonwhite_withHS = testing[['non_english', 'mother_hs', 'non_white']].prod(axis=1)\n",
    "\n",
    "nonenglish_nonwhite_withHS"
   ]
  },
  {
   "cell_type": "markdown",
   "metadata": {},
   "source": [
    "La fonction `describe` regroupe plusieurs de ces aggrégations, ce qui lui rend très pratique pour un aperçu des données :"
   ]
  },
  {
   "cell_type": "code",
   "execution_count": null,
   "metadata": {},
   "outputs": [],
   "source": [
    "testing.describe()"
   ]
  },
  {
   "cell_type": "markdown",
   "metadata": {},
   "source": [
    "`describe` peut détecter des données non-numeriques et rendre des informations utiles."
   ]
  },
  {
   "cell_type": "code",
   "execution_count": null,
   "metadata": {},
   "outputs": [],
   "source": [
    "testing.non_english.describe()"
   ]
  },
  {
   "cell_type": "markdown",
   "metadata": {},
   "source": [
    "Nous pouvons aussi effecuter des vérifications rapides telles que la covariance ou la correlation entre deux variables : \n",
    "\n",
    "$$cov(x,y) = \\sum_i (x_i - \\bar{x})(y_i - \\bar{y})$$"
   ]
  },
  {
   "cell_type": "code",
   "execution_count": null,
   "metadata": {},
   "outputs": [],
   "source": [
    "testing.score.cov(testing.age_test)"
   ]
  },
  {
   "cell_type": "markdown",
   "metadata": {},
   "source": [
    "$$corr(x,y) = \\frac{cov(x,y)}{(n-1)s_x s_y} = \\frac{\\sum_i (x_i - \\bar{x})(y_i - \\bar{y})}{\\sqrt{\\sum_i (x_i - \\bar{x})^2 \\sum_i (y_i - \\bar{y})^2}}$$"
   ]
  },
  {
   "cell_type": "code",
   "execution_count": null,
   "metadata": {},
   "outputs": [],
   "source": [
    "testing.score.corr(testing.age_test)"
   ]
  },
  {
   "cell_type": "markdown",
   "metadata": {},
   "source": [
    "Exercice : Effectuer les test `corr` sur tout le DataFrame `testing` :"
   ]
  },
  {
   "cell_type": "code",
   "execution_count": null,
   "metadata": {},
   "outputs": [],
   "source": [
    "# Votre réponse ici"
   ]
  },
  {
   "cell_type": "markdown",
   "metadata": {},
   "source": [
    "## Exporter les DataFrames sur des fichiers\n",
    "\n",
    "Une fois les données traitées et nettoyés, vous voulez certainement les sauvegarder. Plusieurs options sont disponibles. La plus simples est d'utiliser le format csv :"
   ]
  },
  {
   "cell_type": "code",
   "execution_count": null,
   "metadata": {},
   "outputs": [],
   "source": [
    "testing.to_csv(\"testing.csv\")"
   ]
  },
  {
   "cell_type": "markdown",
   "metadata": {},
   "source": [
    "Cette fonction `to_csv` exporte un `DataFrame` vers un fichier séparé par des virgules (comma-separated values  - csv). Vous pouvez spécifier des délimiteurs spécifiques (avec l'argument `sep`), comment les valeurs manquantes seront représentées (avec l'argument `na_rep`), si l'index doit être écrit aussi (l'argument `index` ), si l'entête (noms des colonnes) doit être écrit (`header`), etc."
   ]
  },
  {
   "cell_type": "markdown",
   "metadata": {},
   "source": [
    "Un fichier csv reste toutefois très volumeux, plusieurs options de stockage binaires sont disponibles. Le format sérialisé de Python (pickle) est une option."
   ]
  },
  {
   "cell_type": "code",
   "execution_count": null,
   "metadata": {},
   "outputs": [],
   "source": [
    "testing.to_pickle(\"testing_pickle\")"
   ]
  },
  {
   "cell_type": "markdown",
   "metadata": {},
   "source": [
    "l'opposé de `to_pickle` est la fonction `read_pickle`, qui recrée un `DataFrame` ou `Series`:"
   ]
  },
  {
   "cell_type": "code",
   "execution_count": null,
   "metadata": {
    "scrolled": true
   },
   "outputs": [],
   "source": [
    "pd.read_pickle(\"testing_pickle\").head()"
   ]
  },
  {
   "cell_type": "markdown",
   "metadata": {},
   "source": []
  },
  {
   "cell_type": "markdown",
   "metadata": {},
   "source": [
    "## References\n",
    "\n",
    "[Python for Data Analysis](http://shop.oreilly.com/product/0636920023784.do) Wes McKinney"
   ]
  }
 ],
 "metadata": {
  "kernelspec": {
   "display_name": "Python 3",
   "language": "python",
   "name": "python3"
  },
  "language_info": {
   "codemirror_mode": {
    "name": "ipython",
    "version": 3
   },
   "file_extension": ".py",
   "mimetype": "text/x-python",
   "name": "python",
   "nbconvert_exporter": "python",
   "pygments_lexer": "ipython3",
   "version": "3.7.8"
  },
  "toc": {
   "colors": {
    "hover_highlight": "#DAA520",
    "running_highlight": "#FF0000",
    "selected_highlight": "#FFD700"
   },
   "moveMenuLeft": true,
   "nav_menu": {
    "height": "210px",
    "width": "252px"
   },
   "navigate_menu": true,
   "number_sections": true,
   "sideBar": true,
   "threshold": "2",
   "toc_cell": true,
   "toc_section_display": "block",
   "toc_window_display": true,
   "widenNotebook": false
  },
  "widgets": {
   "state": {},
   "version": "1.1.2"
  }
 },
 "nbformat": 4,
 "nbformat_minor": 2
}
