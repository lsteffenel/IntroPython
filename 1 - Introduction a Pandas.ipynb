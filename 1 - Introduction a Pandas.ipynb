{
 "cells": [
  {
   "cell_type": "markdown",
   "metadata": {},
   "source": [
    "# Introduction to Pandas "
   ]
  },
  {
   "cell_type": "markdown",
   "metadata": {},
   "source": [
    "**pandas** est un paquet Python fournissant des structures de données rapides, flexibles et expressives conçues pour fonctionner avec des données *relationnelles* ou *étiquetées*. Il s'agit d'une bibliothèque haut niveau pour effectuer des analyses de données en Python. \n",
    "\n",
    "pandas est bien adapté pour :\n",
    "\n",
    "- les données tabulaires avec des colonnes de type hétérogène, comme celles que l'on peut trouver dans un tableau SQL ou dans une feuille de calcul Excel\n",
    "- des données ordonnées et non ordonnées (pas nécessairement à fréquence fixe), notamment des **séries temporelles**.\n",
    "- Données arbitraires de type **matrice**, avec étiquettes de lignes et de colonnes\n",
    "\n",
    "Pratiquement tout ensemble de données statistiques, étiquetées ou non, peut être converti en une structure de données pandas pour le nettoyage, la transformation et l'analyse.\n",
    "\n",
    "\n",
    "### Caractéristiques principales\n",
    "    \n",
    "- Manipulation aisée des **données manquantes**.\n",
    "- **Structure modifiable** : les colonnes peuvent être insérées et supprimées du DataFrame et des objets de dimensions supérieures\n",
    "- Alignement automatique et explicite des données : les objets peuvent être explicitement alignés sur un ensemble d'étiquettes, ou les données peuvent être alignées automatiquement\n",
    "- Fonctionnalités **group by** pour effectuer des opérations de combinaison de demandes séparées sur des ensembles de données\n",
    "- Étiquetage intelligent basé sur le découpage, l'indexation et les sous-ensembles de grands ensembles de données\n",
    "- Des ensembles de données intuitifs \n",
    "- **Etiquetage hiérarchique** des axes\n",
    "- Des outils **I/O** robustes pour charger des données à partir de fichiers texte, de fichiers Excel, de bases de données et de HDF5\n",
    "- **Fonctionnalité pour les séries temporelles** : génération de plages de dates et conversion de fréquence, statistiques de la fenêtre mobile, régressions linéaires de la fenêtre mobile, décalage et décalage des dates, etc."
   ]
  },
  {
   "cell_type": "markdown",
   "metadata": {},
   "source": [
    "### Convention d'importation de la bibliothèque"
   ]
  },
  {
   "cell_type": "code",
   "execution_count": null,
   "metadata": {
    "collapsed": true
   },
   "outputs": [],
   "source": [
    "import pandas as pd"
   ]
  },
  {
   "cell_type": "markdown",
   "metadata": {},
   "source": [
    "## Pandas Series"
   ]
  },
  {
   "cell_type": "markdown",
   "metadata": {},
   "source": [
    "* Une Series panda est un array 1D (généralisation d'un array 1D de Numpy)\n",
    "* Une Series a un *index* qui étiquette chaque élément du vecteur.\n",
    "* Une `Series` peut être comparée à une liste ordonnées de clés-valeur."
   ]
  },
  {
   "cell_type": "code",
   "execution_count": null,
   "metadata": {
    "collapsed": true
   },
   "outputs": [],
   "source": [
    "counts = pd.Series([632, 1638, 569, 115])\n",
    "counts"
   ]
  },
  {
   "cell_type": "markdown",
   "metadata": {},
   "source": [
    "Si un index n'est pas specifié, par défaut une séquence d'entiers est utilisé. Les valeurs sont stockées en tant qu'un array NumPy, alors que l'index est un objet `Index` de pandas."
   ]
  },
  {
   "cell_type": "code",
   "execution_count": null,
   "metadata": {
    "collapsed": true
   },
   "outputs": [],
   "source": [
    "counts.values"
   ]
  },
  {
   "cell_type": "markdown",
   "metadata": {},
   "source": [
    "### Objet Index "
   ]
  },
  {
   "cell_type": "markdown",
   "metadata": {},
   "source": [
    "Pandas permet d'accéder aux lignes grâce aux labels de l'index"
   ]
  },
  {
   "cell_type": "code",
   "execution_count": null,
   "metadata": {
    "collapsed": true
   },
   "outputs": [],
   "source": [
    "counts.index"
   ]
  },
  {
   "cell_type": "markdown",
   "metadata": {},
   "source": [
    "Si souhaité, on peut donner des labels plus \"explicatifs\""
   ]
  },
  {
   "cell_type": "code",
   "execution_count": null,
   "metadata": {
    "collapsed": true
   },
   "outputs": [],
   "source": [
    "bacteria = pd.Series([632, 1638, 569, 115], \n",
    "                     index=['Firmicutes', 'Proteobacteria', \n",
    "                            'Actinobacteria', 'Bacteroidetes'])\n",
    "\n",
    "bacteria"
   ]
  },
  {
   "cell_type": "markdown",
   "metadata": {},
   "source": [
    "Les fonctions associées à NumPy peuvent s'appliquer aux Series sans perdre la structure des données."
   ]
  },
  {
   "cell_type": "code",
   "execution_count": null,
   "metadata": {
    "collapsed": true
   },
   "outputs": [],
   "source": [
    "np.log(bacteria)"
   ]
  },
  {
   "cell_type": "markdown",
   "metadata": {},
   "source": [
    "* Il est possible de créer un Series à partir d'un dictionnaire (clé:valeur)"
   ]
  },
  {
   "cell_type": "code",
   "execution_count": null,
   "metadata": {
    "collapsed": true
   },
   "outputs": [],
   "source": [
    "bacteria_dict = {\n",
    "    'Firmicutes': 632, \n",
    "    'Proteobacteria': 1638,\n",
    "    'Actinobacteria': 569, \n",
    "    'Bacteroidetes': 115\n",
    "}\n",
    "\n",
    "pd.Series(bacteria_dict)"
   ]
  },
  {
   "cell_type": "markdown",
   "metadata": {},
   "source": [
    "## DataFrames Pandas \n",
    "\n",
    "On veut souvent manipuler plus qu'un array 1D.\n",
    "\n",
    "Un `DataFrame` est une structure tabulaire, qui regroupe plusieurs Series comme dans un tableur."
   ]
  },
  {
   "cell_type": "code",
   "execution_count": null,
   "metadata": {
    "collapsed": true
   },
   "outputs": [],
   "source": [
    "data = pd.DataFrame({'value': [632, 1638, 569, 115, 433, 1130, 754, 555],\n",
    "                     'patient': [1, 1, 1, 1, 2, 2, 2, 2],\n",
    "                     'phylum': ['Firmicutes', 'Proteobacteria', 'Actinobacteria', \n",
    "                                'Bacteroidetes', 'Firmicutes', 'Proteobacteria',\n",
    "                                'Actinobacteria', 'Bacteroidetes']})\n",
    "data"
   ]
  },
  {
   "cell_type": "markdown",
   "metadata": {},
   "source": [
    "* Pour afficher les premières lignes d'un Dataframe on peut utiliser la fonction `head()` (ou `tail()` si on veut voir les dernières lignes."
   ]
  },
  {
   "cell_type": "code",
   "execution_count": null,
   "metadata": {
    "collapsed": true
   },
   "outputs": [],
   "source": [
    "data.head()"
   ]
  },
  {
   "cell_type": "markdown",
   "metadata": {},
   "source": [
    "### Index des Columns"
   ]
  },
  {
   "cell_type": "markdown",
   "metadata": {},
   "source": [
    "Le premier axe d'un DataFrame inclut les labels des colonnes"
   ]
  },
  {
   "cell_type": "code",
   "execution_count": null,
   "metadata": {
    "collapsed": true
   },
   "outputs": [],
   "source": [
    "data.columns"
   ]
  },
  {
   "cell_type": "markdown",
   "metadata": {},
   "source": [
    "## Lecture et Ecriture à partir de fichiers"
   ]
  },
  {
   "cell_type": "markdown",
   "metadata": {},
   "source": [
    "* Pandas offre plusiers possibilités d'entrée/sortie\n",
    "* `read_csv()` est une fonction permettant la lecture de fichiers de type csv"
   ]
  },
  {
   "cell_type": "code",
   "execution_count": null,
   "metadata": {
    "collapsed": true
   },
   "outputs": [],
   "source": [
    "vessels = pd.read_csv(\"./data/AIS/vessel_information.csv\")\n",
    "vessels.head()"
   ]
  },
  {
   "cell_type": "markdown",
   "metadata": {},
   "source": [
    "### Exercice"
   ]
  },
  {
   "cell_type": "markdown",
   "metadata": {},
   "source": [
    "* Lire et afficher les premières 20 lignes du fichier `./data/NationalFoodSurvey/NFS_1974.csv`"
   ]
  },
  {
   "cell_type": "code",
   "execution_count": null,
   "metadata": {
    "collapsed": true
   },
   "outputs": [],
   "source": []
  },
  {
   "cell_type": "code",
   "execution_count": null,
   "metadata": {
    "collapsed": true
   },
   "outputs": [],
   "source": [
    "%load solutions/read_nfs_1974.py\n"
   ]
  },
  {
   "cell_type": "markdown",
   "metadata": {},
   "source": [
    "---"
   ]
  },
  {
   "cell_type": "code",
   "execution_count": null,
   "metadata": {},
   "outputs": [],
   "source": []
  }
 ],
 "metadata": {
  "anaconda-cloud": {},
  "kernelspec": {
   "display_name": "Python 3",
   "language": "python",
   "name": "python3"
  },
  "language_info": {
   "codemirror_mode": {
    "name": "ipython",
    "version": 3
   },
   "file_extension": ".py",
   "mimetype": "text/x-python",
   "name": "python",
   "nbconvert_exporter": "python",
   "pygments_lexer": "ipython3",
   "version": "3.7.8"
  },
  "toc": {
   "colors": {
    "hover_highlight": "#DAA520",
    "running_highlight": "#FF0000",
    "selected_highlight": "#FFD700"
   },
   "moveMenuLeft": true,
   "nav_menu": {
    "height": "228px",
    "width": "252px"
   },
   "navigate_menu": true,
   "number_sections": true,
   "sideBar": true,
   "threshold": "2",
   "toc_cell": true,
   "toc_position": {
    "height": "640px",
    "left": "0px",
    "right": "auto",
    "top": "106px",
    "width": "212px"
   },
   "toc_section_display": "block",
   "toc_window_display": true,
   "widenNotebook": false
  },
  "widgets": {
   "state": {},
   "version": "1.1.2"
  }
 },
 "nbformat": 4,
 "nbformat_minor": 2
}
